{
  "nbformat": 4,
  "nbformat_minor": 0,
  "metadata": {
    "colab": {
      "provenance": [],
      "authorship_tag": "ABX9TyOLbkdc2glcn1rQzGn5l80R",
      "include_colab_link": true
    },
    "kernelspec": {
      "name": "python3",
      "display_name": "Python 3"
    },
    "language_info": {
      "name": "python"
    }
  },
  "cells": [
    {
      "cell_type": "markdown",
      "metadata": {
        "id": "view-in-github",
        "colab_type": "text"
      },
      "source": [
        "<a href=\"https://colab.research.google.com/github/iishanyaa/MLfromscratch/blob/main/CNN.ipynb\" target=\"_parent\"><img src=\"https://colab.research.google.com/assets/colab-badge.svg\" alt=\"Open In Colab\"/></a>"
      ]
    },
    {
      "cell_type": "code",
      "execution_count": null,
      "metadata": {
        "id": "qrp4_rJarEvK"
      },
      "outputs": [],
      "source": [
        "import tensorflow as tf\n",
        "from tensorflow.keras.datasets import mnist\n",
        "from tensorflow.keras.models import Sequential\n",
        "from tensorflow.keras.layers import Conv2D, MaxPooling2D, Flatten, Dense\n",
        "from tensorflow.keras.utils import to_categorical"
      ]
    },
    {
      "cell_type": "code",
      "source": [
        "(x_train, y_train), (x_test, y_test) = mnist.load_data()"
      ],
      "metadata": {
        "id": "3x0INg8XebuO"
      },
      "execution_count": null,
      "outputs": []
    },
    {
      "cell_type": "code",
      "source": [
        "#normalize pixel values to be between 0 and 1\n",
        "x_train =x_train.astype('float32')/ 255.0\n",
        "x_test =x_test.astype('float32')/ 255.0\n"
      ],
      "metadata": {
        "id": "LUKv_R6hgj9f"
      },
      "execution_count": null,
      "outputs": []
    },
    {
      "cell_type": "code",
      "source": [
        "#Reshape the data to onclude the channel dimension (1 for grayscale)\n",
        "x_train =x_train.reshape(-1,28,28,1)\n",
        "x_test =x_test.reshape(-1,28,28,1)\n"
      ],
      "metadata": {
        "id": "UJlOVBcgikGj"
      },
      "execution_count": null,
      "outputs": []
    },
    {
      "cell_type": "code",
      "source": [
        "# one hot encode the labels\n",
        "y_train = to_categorical(y_train,10)\n",
        "y_test = to_categorical(y_test,10)"
      ],
      "metadata": {
        "id": "TDMQ3yrbi1d_"
      },
      "execution_count": null,
      "outputs": []
    },
    {
      "cell_type": "code",
      "source": [
        "# build the CNN model\n",
        "model = Sequential([\n",
        "    Conv2D(32,(3,3), activation='relu',input_shape=(28,28,1)),\n",
        "    MaxPooling2D((2,2)),\n",
        "    Conv2D(64,(3,3),activation='relu'),\n",
        "    MaxPooling2D((2,2)),\n",
        "    Flatten(),\n",
        "    Dense(64,activation='relu'),\n",
        "    Dense(10,activation='softmax')\n",
        "])\n"
      ],
      "metadata": {
        "colab": {
          "base_uri": "https://localhost:8080/"
        },
        "id": "MNztxzwsjEbg",
        "outputId": "411e33e6-5874-41bb-ed4b-c04a41e65397"
      },
      "execution_count": null,
      "outputs": [
        {
          "output_type": "stream",
          "name": "stderr",
          "text": [
            "/usr/local/lib/python3.10/dist-packages/keras/src/layers/convolutional/base_conv.py:107: UserWarning: Do not pass an `input_shape`/`input_dim` argument to a layer. When using Sequential models, prefer using an `Input(shape)` object as the first layer in the model instead.\n",
            "  super().__init__(activity_regularizer=activity_regularizer, **kwargs)\n"
          ]
        }
      ]
    },
    {
      "cell_type": "code",
      "source": [
        "\"\"\"one hot in codeing is a method to represent categorical data as binari vectors:-\n",
        "y_train = to_categorical(y_train,10)\n",
        "This funcion converts the integer label in y train into binary class matrix\n",
        "the 2 argument (10) specifice the number of class\n",
        "\n",
        "conv2D(32,32,(3,3))\n",
        "activation='relu' (rectifired linear unit)\n",
        "maxpooling2D((2,2))\n",
        "which is use to reduce dimantion of the feature map by taking maxiumn value\n",
        "flatten:\n",
        "flattens the output from convolution and pulling layers into 1D vector\n",
        "Dense(64,activation='relu'):\n",
        "a fulling connected dense layer with 64 units and a relu activation function\n",
        "softmax function :\n",
        "it outputs the probalility distrubution over the 10 classes\"\"\""
      ],
      "metadata": {
        "colab": {
          "base_uri": "https://localhost:8080/",
          "height": 105
        },
        "id": "sRJq55GbnTg2",
        "outputId": "b94a7875-2c9b-4b7f-f9d0-faff9cd3a7be"
      },
      "execution_count": null,
      "outputs": [
        {
          "output_type": "execute_result",
          "data": {
            "text/plain": [
              "\"one hot in codeing is a method to represent categorical data as binari vectors:-\\ny_train = to_categorical(y_train,10)\\nThis funcion converts the integer label in y train into binary class matrix\\nthe 2 argument (10) specifice the number of class\\n\\nconv2D(32,32,(3,3))\\nactivation='relu' (rectifired linear unit) \\nmaxpooling2D((2,2))\\nwhich is use to reduce dimantion of the feature map by taking maxiumn value\\nflatten:\\nflattens the output from convolution and pulling layers into 1D vector\\nDense(64,activation='relu'):\\na fulling connected dense layer with 64 units and a relu activation function \\nsoftmax function :\\nit outputs the probalility distrubution over the 10 classes\""
            ],
            "application/vnd.google.colaboratory.intrinsic+json": {
              "type": "string"
            }
          },
          "metadata": {},
          "execution_count": 29
        }
      ]
    },
    {
      "cell_type": "code",
      "source": [
        "#compile the model\n",
        "model.compile(optimizer='adam',\n",
        "              loss='categorical_crossentropy',\n",
        "              metrics=['accuracy'])"
      ],
      "metadata": {
        "id": "jvcRt3fgt8eK"
      },
      "execution_count": null,
      "outputs": []
    },
    {
      "cell_type": "code",
      "source": [
        "#train  the model\n",
        "model.fit(x_train, y_train, epochs=5, batch_size=64, validation_split=0.2)"
      ],
      "metadata": {
        "colab": {
          "base_uri": "https://localhost:8080/"
        },
        "id": "AJ7rgLXZuXjt",
        "outputId": "b190fb09-5da7-4be7-80b3-ebd81426fafe"
      },
      "execution_count": null,
      "outputs": [
        {
          "output_type": "stream",
          "name": "stdout",
          "text": [
            "Epoch 1/5\n",
            "\u001b[1m750/750\u001b[0m \u001b[32m━━━━━━━━━━━━━━━━━━━━\u001b[0m\u001b[37m\u001b[0m \u001b[1m42s\u001b[0m 53ms/step - accuracy: 0.8601 - loss: 0.4748 - val_accuracy: 0.9750 - val_loss: 0.0811\n",
            "Epoch 2/5\n",
            "\u001b[1m750/750\u001b[0m \u001b[32m━━━━━━━━━━━━━━━━━━━━\u001b[0m\u001b[37m\u001b[0m \u001b[1m39s\u001b[0m 51ms/step - accuracy: 0.9801 - loss: 0.0681 - val_accuracy: 0.9859 - val_loss: 0.0505\n",
            "Epoch 3/5\n",
            "\u001b[1m750/750\u001b[0m \u001b[32m━━━━━━━━━━━━━━━━━━━━\u001b[0m\u001b[37m\u001b[0m \u001b[1m40s\u001b[0m 50ms/step - accuracy: 0.9861 - loss: 0.0452 - val_accuracy: 0.9854 - val_loss: 0.0483\n",
            "Epoch 4/5\n",
            "\u001b[1m750/750\u001b[0m \u001b[32m━━━━━━━━━━━━━━━━━━━━\u001b[0m\u001b[37m\u001b[0m \u001b[1m43s\u001b[0m 54ms/step - accuracy: 0.9902 - loss: 0.0314 - val_accuracy: 0.9882 - val_loss: 0.0426\n",
            "Epoch 5/5\n",
            "\u001b[1m750/750\u001b[0m \u001b[32m━━━━━━━━━━━━━━━━━━━━\u001b[0m\u001b[37m\u001b[0m \u001b[1m40s\u001b[0m 52ms/step - accuracy: 0.9927 - loss: 0.0235 - val_accuracy: 0.9889 - val_loss: 0.0395\n"
          ]
        },
        {
          "output_type": "execute_result",
          "data": {
            "text/plain": [
              "<keras.src.callbacks.history.History at 0x7ec394784c40>"
            ]
          },
          "metadata": {},
          "execution_count": 31
        }
      ]
    },
    {
      "cell_type": "code",
      "source": [
        "\"\"\" the optimizer use here is addaptive moment estimation adam is effient and popular gradient descent optimization algoritham that adjust the learningrate during trainng perioed\n",
        "\n",
        "it calculated the differnce between the prectied probalilty distribution and the true distribution (1 hot encorded distribution ) for eche class his difrence acros all class\n",
        "the losss function marsure how eill the model prediction match the true label\n",
        "this parameter specfiice percentage of correctly predicated labels\n",
        "epox:\n",
        "an epoc is one complet pass through complet dataset\n",
        "\"\"\""
      ],
      "metadata": {
        "id": "1e8-aA_ku5Bz"
      },
      "execution_count": null,
      "outputs": []
    },
    {
      "cell_type": "code",
      "source": [
        "#evalution  the model\n",
        "test_loss, test_acc= model.evaluate(x_test,y_test)\n",
        "print(f'test accuracy : {test_acc}')"
      ],
      "metadata": {
        "colab": {
          "base_uri": "https://localhost:8080/"
        },
        "id": "ITV78XCOzB7i",
        "outputId": "411f30df-bf2a-478d-c602-7834830772a0"
      },
      "execution_count": null,
      "outputs": [
        {
          "output_type": "stream",
          "name": "stdout",
          "text": [
            "\u001b[1m313/313\u001b[0m \u001b[32m━━━━━━━━━━━━━━━━━━━━\u001b[0m\u001b[37m\u001b[0m \u001b[1m3s\u001b[0m 11ms/step - accuracy: 0.9891 - loss: 0.0352\n",
            "test accuracy : 0.9905999898910522\n"
          ]
        }
      ]
    },
    {
      "cell_type": "code",
      "source": [
        "import matplotlib.pyplot as plt\n",
        "import numpy as np\n"
      ],
      "metadata": {
        "id": "pXQ3f081ztjK"
      },
      "execution_count": null,
      "outputs": []
    },
    {
      "cell_type": "code",
      "source": [
        "# Example dummy data\n",
        "x_train = np.random.random((100, 784))  # Example for flattened 28x28 images\n",
        "y_train = np.random.randint(10, size=(100,))  # 100 samples with 10 classes\n",
        "\n",
        "# Define a simple model\n",
        "from tensorflow.keras.models import Sequential\n",
        "from tensorflow.keras.layers import Dense\n",
        "\n",
        "model = Sequential([\n",
        "    Dense(128, activation='relu', input_shape=(784,)),\n",
        "    Dense(10, activation='softmax')  # Output layer for 10 classes\n",
        "])\n",
        "\n",
        "model.compile(optimizer='adam', loss='sparse_categorical_crossentropy', metrics=['accuracy'])\n",
        "\n",
        "# Training\n",
        "history = model.fit(x_train, y_train, epochs=5, batch_size=64, validation_split=0.2)"
      ],
      "metadata": {
        "colab": {
          "base_uri": "https://localhost:8080/"
        },
        "id": "aRSPCRXw16U8",
        "outputId": "0cb60d92-78a8-499c-c1f1-49115ae06d76"
      },
      "execution_count": null,
      "outputs": [
        {
          "output_type": "stream",
          "name": "stdout",
          "text": [
            "Epoch 1/5\n"
          ]
        },
        {
          "output_type": "stream",
          "name": "stderr",
          "text": [
            "/usr/local/lib/python3.10/dist-packages/keras/src/layers/core/dense.py:87: UserWarning: Do not pass an `input_shape`/`input_dim` argument to a layer. When using Sequential models, prefer using an `Input(shape)` object as the first layer in the model instead.\n",
            "  super().__init__(activity_regularizer=activity_regularizer, **kwargs)\n"
          ]
        },
        {
          "output_type": "stream",
          "name": "stdout",
          "text": [
            "\u001b[1m2/2\u001b[0m \u001b[32m━━━━━━━━━━━━━━━━━━━━\u001b[0m\u001b[37m\u001b[0m \u001b[1m1s\u001b[0m 192ms/step - accuracy: 0.0677 - loss: 2.6840 - val_accuracy: 0.1500 - val_loss: 2.4888\n",
            "Epoch 2/5\n",
            "\u001b[1m2/2\u001b[0m \u001b[32m━━━━━━━━━━━━━━━━━━━━\u001b[0m\u001b[37m\u001b[0m \u001b[1m0s\u001b[0m 32ms/step - accuracy: 0.2094 - loss: 2.3387 - val_accuracy: 0.2000 - val_loss: 2.5422\n",
            "Epoch 3/5\n",
            "\u001b[1m2/2\u001b[0m \u001b[32m━━━━━━━━━━━━━━━━━━━━\u001b[0m\u001b[37m\u001b[0m \u001b[1m0s\u001b[0m 34ms/step - accuracy: 0.2156 - loss: 2.3027 - val_accuracy: 0.2000 - val_loss: 2.4203\n",
            "Epoch 4/5\n",
            "\u001b[1m2/2\u001b[0m \u001b[32m━━━━━━━━━━━━━━━━━━━━\u001b[0m\u001b[37m\u001b[0m \u001b[1m0s\u001b[0m 33ms/step - accuracy: 0.2719 - loss: 2.1477 - val_accuracy: 0.2000 - val_loss: 2.3557\n",
            "Epoch 5/5\n",
            "\u001b[1m2/2\u001b[0m \u001b[32m━━━━━━━━━━━━━━━━━━━━\u001b[0m\u001b[37m\u001b[0m \u001b[1m0s\u001b[0m 35ms/step - accuracy: 0.3365 - loss: 2.0140 - val_accuracy: 0.1500 - val_loss: 2.3604\n"
          ]
        }
      ]
    },
    {
      "cell_type": "code",
      "source": [],
      "metadata": {
        "id": "A_fJ6kYg2Efy"
      },
      "execution_count": null,
      "outputs": []
    }
  ]
}