{
  "nbformat": 4,
  "nbformat_minor": 0,
  "metadata": {
    "colab": {
      "provenance": [],
      "authorship_tag": "ABX9TyPD+8kkbn+TOE8nW8pPEaeU",
      "include_colab_link": true
    },
    "kernelspec": {
      "name": "python3",
      "display_name": "Python 3"
    },
    "language_info": {
      "name": "python"
    }
  },
  "cells": [
    {
      "cell_type": "markdown",
      "metadata": {
        "id": "view-in-github",
        "colab_type": "text"
      },
      "source": [
        "<a href=\"https://colab.research.google.com/github/iishanyaa/MLfromscratch/blob/main/logistic_regression.ipynb\" target=\"_parent\"><img src=\"https://colab.research.google.com/assets/colab-badge.svg\" alt=\"Open In Colab\"/></a>"
      ]
    },
    {
      "cell_type": "code",
      "source": [
        "import numpy as np\n",
        "import pandas as pd\n",
        ""
      ],
      "metadata": {
        "id": "b_8KPK29jt5k"
      },
      "execution_count": 5,
      "outputs": []
    },
    {
      "cell_type": "code",
      "source": [
        "# Generate synthetic tumor detection data\n",
        "np.random.seed(0)\n",
        "N = 500  # Number of samples\n",
        "age = np.random.randint(20, 80, size=N)  # Age of patients\n",
        "tumor_size = np.random.uniform(1.0, 10.0, size=N)  # Size of tumor in cm\n",
        "blood_pressure = np.random.randint(80, 180, size=N)  # Blood pressure of patients\n",
        "cholesterol = np.random.uniform(120, 350, size=N)  # Cholesterol level\n",
        "symptom_score = np.random.randint(0, 10, size=N)  # Symptom severity score\n",
        "\n",
        "# Generate target variable indicating tumor presence (1) or absence (0)\n",
        "# Simplified logic for demonstration purposes\n",
        "tumor_presence = np.random.binomial(1, 0.6, size=N)  # 60% chance of tumor presence\n",
        "\n",
        "# Create DataFrame\n",
        "data = pd.DataFrame({\n",
        "    'Age': age,\n",
        "    'Tumor_Size_cm': tumor_size,\n",
        "    'Blood_Pressure_mmHg': blood_pressure,\n",
        "    'Cholesterol': cholesterol,\n",
        "    'Symptom_Score': symptom_score,\n",
        "    'Tumor_Presence': tumor_presence\n",
        "})"
      ],
      "metadata": {
        "id": "ah0rPe-zkBnX"
      },
      "execution_count": 6,
      "outputs": []
    },
    {
      "cell_type": "code",
      "source": [
        "# Save to CSV\n",
        "data.to_csv('tumor_detection_data.csv', index=False)\n",
        ""
      ],
      "metadata": {
        "id": "uPtyxXTXkE8o"
      },
      "execution_count": 7,
      "outputs": []
    },
    {
      "cell_type": "code",
      "source": [
        "print(\"CSV file 'tumor_detection_data.csv' has been created.\")"
      ],
      "metadata": {
        "colab": {
          "base_uri": "https://localhost:8080/"
        },
        "id": "vOG3ZD4OkHj7",
        "outputId": "93cd244d-3c3d-4c16-e36c-9567712dc4fb"
      },
      "execution_count": 8,
      "outputs": [
        {
          "output_type": "stream",
          "name": "stdout",
          "text": [
            "CSV file 'tumor_detection_data.csv' has been created.\n"
          ]
        }
      ]
    },
    {
      "cell_type": "code",
      "source": [
        "# Separate features (X) and target variable (y)\n",
        "X = data.drop('Tumor_Presence', axis=1).values  # Feature matrix\n",
        "y = data['Tumor_Presence'].values  # Target vector\n"
      ],
      "metadata": {
        "id": "Mjdl9y91kKN3"
      },
      "execution_count": 9,
      "outputs": []
    },
    {
      "cell_type": "code",
      "source": [
        "def sigmoid(z):\n",
        "    return 1 / (1 + np.exp(-z))\n",
        ""
      ],
      "metadata": {
        "id": "QPoMrEvVkODc"
      },
      "execution_count": 10,
      "outputs": []
    },
    {
      "cell_type": "code",
      "source": [
        "def initialize_parameters(dim):\n",
        "    theta = np.zeros(dim)  # Initialize theta with zeros\n",
        "    return theta\n",
        "\n",
        "theta = initialize_parameters(X.shape[1])  # Initialize parameters for each feature\n",
        "learning_rate = 0.01\n",
        "epochs = 1000"
      ],
      "metadata": {
        "id": "T_t-K6TukQkf"
      },
      "execution_count": 11,
      "outputs": []
    },
    {
      "cell_type": "code",
      "source": [
        "def predict(X, theta):\n",
        "    z = np.dot(X, theta)\n",
        "    return sigmoid(z)\n",
        "\n",
        "# Example prediction\n",
        "new_data_point = np.array([[55, 5.5, 120, 250, 7]])  # Example input features for prediction\n",
        "predicted_probability = predict(new_data_point, theta)\n",
        "print(f\"Predicted Probability: {predicted_probability}\")"
      ],
      "metadata": {
        "colab": {
          "base_uri": "https://localhost:8080/"
        },
        "id": "kB0SFIHMkTJP",
        "outputId": "72e9cafc-f9c8-43a3-e855-f5dab9bbe460"
      },
      "execution_count": 12,
      "outputs": [
        {
          "output_type": "stream",
          "name": "stdout",
          "text": [
            "Predicted Probability: [0.5]\n"
          ]
        }
      ]
    },
    {
      "cell_type": "code",
      "source": [
        "from sklearn.metrics import accuracy_score, confusion_matrix\n",
        "\n",
        "# Example evaluation\n",
        "y_pred = predict(X, theta) > 0.5  # Thresholding at 0.5 for binary classification\n",
        "accuracy = accuracy_score(y, y_pred)\n",
        "conf_matrix = confusion_matrix(y, y_pred)\n",
        "\n",
        "print(f\"Accuracy: {accuracy}\")\n",
        "print(f\"Confusion Matrix:\\n{conf_matrix}\")\n",
        ""
      ],
      "metadata": {
        "colab": {
          "base_uri": "https://localhost:8080/"
        },
        "id": "T7pyvvHrkWHm",
        "outputId": "0cf99361-4cfd-4cf0-fc61-85c461d8978f"
      },
      "execution_count": 13,
      "outputs": [
        {
          "output_type": "stream",
          "name": "stdout",
          "text": [
            "Accuracy: 0.404\n",
            "Confusion Matrix:\n",
            "[[202   0]\n",
            " [298   0]]\n"
          ]
        }
      ]
    },
    {
      "cell_type": "code",
      "source": [],
      "metadata": {
        "id": "57jXVaM-kZ49"
      },
      "execution_count": null,
      "outputs": []
    }
  ]
}